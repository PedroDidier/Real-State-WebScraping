{
 "cells": [
  {
   "cell_type": "markdown",
   "id": "3a53a7c2",
   "metadata": {},
   "source": [
    "## Importing Libs"
   ]
  },
  {
   "cell_type": "code",
   "execution_count": 1,
   "id": "279cee8b",
   "metadata": {},
   "outputs": [],
   "source": [
    "import pandas as pd\n",
    "import numpy as np"
   ]
  },
  {
   "cell_type": "markdown",
   "id": "7ada0046",
   "metadata": {},
   "source": [
    "## Loading DataSet"
   ]
  },
  {
   "cell_type": "code",
   "execution_count": 2,
   "id": "dd85f3c0",
   "metadata": {},
   "outputs": [],
   "source": [
    "df = pd.read_csv('../DataSets/OLX_Housing.csv')"
   ]
  },
  {
   "cell_type": "code",
   "execution_count": 3,
   "id": "9cd27392",
   "metadata": {},
   "outputs": [
    {
     "data": {
      "text/html": [
       "<div>\n",
       "<style scoped>\n",
       "    .dataframe tbody tr th:only-of-type {\n",
       "        vertical-align: middle;\n",
       "    }\n",
       "\n",
       "    .dataframe tbody tr th {\n",
       "        vertical-align: top;\n",
       "    }\n",
       "\n",
       "    .dataframe thead th {\n",
       "        text-align: right;\n",
       "    }\n",
       "</style>\n",
       "<table border=\"1\" class=\"dataframe\">\n",
       "  <thead>\n",
       "    <tr style=\"text-align: right;\">\n",
       "      <th></th>\n",
       "      <th>Title</th>\n",
       "      <th>Status</th>\n",
       "      <th># Rooms</th>\n",
       "      <th>Area</th>\n",
       "      <th># Car Spots</th>\n",
       "      <th>Condominium Fee</th>\n",
       "      <th>City</th>\n",
       "      <th>Neighborhood</th>\n",
       "      <th>Price</th>\n",
       "      <th>Description</th>\n",
       "      <th>URL</th>\n",
       "    </tr>\n",
       "  </thead>\n",
       "  <tbody>\n",
       "    <tr>\n",
       "      <th>0</th>\n",
       "      <td>House_AD</td>\n",
       "      <td>For rent</td>\n",
       "      <td>3.0</td>\n",
       "      <td>86m²</td>\n",
       "      <td>2.0</td>\n",
       "      <td>R$ 0</td>\n",
       "      <td>Recife</td>\n",
       "      <td>Boa Viagem</td>\n",
       "      <td>R$ 4.000.</td>\n",
       "      <td>House in Boa Viagem, Recife</td>\n",
       "      <td>https://pe.olx.com.br/grande-recife/imoveis/ap...</td>\n",
       "    </tr>\n",
       "    <tr>\n",
       "      <th>1</th>\n",
       "      <td>House_AD</td>\n",
       "      <td>NaN</td>\n",
       "      <td>NaN</td>\n",
       "      <td>600m²</td>\n",
       "      <td>NaN</td>\n",
       "      <td>R$ 0</td>\n",
       "      <td>Camaragibe</td>\n",
       "      <td>Aldeia dos Camarás</td>\n",
       "      <td>R$ 220.000.</td>\n",
       "      <td>House in Aldeia dos Camarás, Camaragibe</td>\n",
       "      <td>https://pe.olx.com.br/grande-recife/terrenos/t...</td>\n",
       "    </tr>\n",
       "    <tr>\n",
       "      <th>2</th>\n",
       "      <td>House_AD</td>\n",
       "      <td>For sale</td>\n",
       "      <td>3.0</td>\n",
       "      <td>97m²</td>\n",
       "      <td>2.0</td>\n",
       "      <td>NaN</td>\n",
       "      <td>Recife</td>\n",
       "      <td>Dois Irmãos</td>\n",
       "      <td>R$ 777.000.</td>\n",
       "      <td>House in Dois Irmãos, Recife</td>\n",
       "      <td>https://pe.olx.com.br/grande-recife/imoveis/vm...</td>\n",
       "    </tr>\n",
       "    <tr>\n",
       "      <th>3</th>\n",
       "      <td>House_AD</td>\n",
       "      <td>For sale</td>\n",
       "      <td>4.0</td>\n",
       "      <td>134m²</td>\n",
       "      <td>3.0</td>\n",
       "      <td>R$ 655</td>\n",
       "      <td>Jaboatão dos Guararapes</td>\n",
       "      <td>Candeias</td>\n",
       "      <td>R$ 940.000.</td>\n",
       "      <td>House in Candeias, Jaboatão dos Guararapes</td>\n",
       "      <td>https://pe.olx.com.br/grande-recife/imoveis/ap...</td>\n",
       "    </tr>\n",
       "    <tr>\n",
       "      <th>4</th>\n",
       "      <td>House_AD</td>\n",
       "      <td>For sale</td>\n",
       "      <td>4.0</td>\n",
       "      <td>124m²</td>\n",
       "      <td>2.0</td>\n",
       "      <td>R$ 0</td>\n",
       "      <td>Recife</td>\n",
       "      <td>Graças</td>\n",
       "      <td>R$ 1.080.980.</td>\n",
       "      <td>House in Graças, Recife</td>\n",
       "      <td>https://pe.olx.com.br/grande-recife/imoveis/ap...</td>\n",
       "    </tr>\n",
       "  </tbody>\n",
       "</table>\n",
       "</div>"
      ],
      "text/plain": [
       "      Title    Status  # Rooms   Area  # Car Spots Condominium Fee  \\\n",
       "0  House_AD  For rent      3.0   86m²          2.0            R$ 0   \n",
       "1  House_AD       NaN      NaN  600m²          NaN            R$ 0   \n",
       "2  House_AD  For sale      3.0   97m²          2.0             NaN   \n",
       "3  House_AD  For sale      4.0  134m²          3.0          R$ 655   \n",
       "4  House_AD  For sale      4.0  124m²          2.0            R$ 0   \n",
       "\n",
       "                      City        Neighborhood          Price  \\\n",
       "0                   Recife          Boa Viagem      R$ 4.000.   \n",
       "1               Camaragibe  Aldeia dos Camarás    R$ 220.000.   \n",
       "2                   Recife         Dois Irmãos    R$ 777.000.   \n",
       "3  Jaboatão dos Guararapes            Candeias    R$ 940.000.   \n",
       "4                   Recife              Graças  R$ 1.080.980.   \n",
       "\n",
       "                                  Description  \\\n",
       "0                 House in Boa Viagem, Recife   \n",
       "1     House in Aldeia dos Camarás, Camaragibe   \n",
       "2                House in Dois Irmãos, Recife   \n",
       "3  House in Candeias, Jaboatão dos Guararapes   \n",
       "4                     House in Graças, Recife   \n",
       "\n",
       "                                                 URL  \n",
       "0  https://pe.olx.com.br/grande-recife/imoveis/ap...  \n",
       "1  https://pe.olx.com.br/grande-recife/terrenos/t...  \n",
       "2  https://pe.olx.com.br/grande-recife/imoveis/vm...  \n",
       "3  https://pe.olx.com.br/grande-recife/imoveis/ap...  \n",
       "4  https://pe.olx.com.br/grande-recife/imoveis/ap...  "
      ]
     },
     "execution_count": 3,
     "metadata": {},
     "output_type": "execute_result"
    }
   ],
   "source": [
    "df.head()"
   ]
  },
  {
   "cell_type": "code",
   "execution_count": 4,
   "id": "083afcb7",
   "metadata": {},
   "outputs": [
    {
     "name": "stdout",
     "output_type": "stream",
     "text": [
      "<class 'pandas.core.frame.DataFrame'>\n",
      "Int64Index: 1734 entries, 0 to 1733\n",
      "Data columns (total 11 columns):\n",
      " #   Column           Non-Null Count  Dtype  \n",
      "---  ------           --------------  -----  \n",
      " 0   Title            1734 non-null   object \n",
      " 1   Status           1530 non-null   object \n",
      " 2   # Rooms          1356 non-null   float64\n",
      " 3   Area             1677 non-null   object \n",
      " 4   # Car Spots      641 non-null    float64\n",
      " 5   Condominium Fee  1378 non-null   object \n",
      " 6   City             1734 non-null   object \n",
      " 7   Neighborhood     1734 non-null   object \n",
      " 8   Price            1734 non-null   object \n",
      " 9   Description      1734 non-null   object \n",
      " 10  URL              1734 non-null   object \n",
      "dtypes: float64(2), object(9)\n",
      "memory usage: 162.6+ KB\n"
     ]
    }
   ],
   "source": [
    "df.info()"
   ]
  },
  {
   "cell_type": "markdown",
   "id": "b99f0876",
   "metadata": {},
   "source": [
    "# Discarding unuseful data"
   ]
  },
  {
   "cell_type": "markdown",
   "id": "3e4a390b",
   "metadata": {},
   "source": [
    "For this analysis, some columns are not useful"
   ]
  },
  {
   "cell_type": "code",
   "execution_count": 5,
   "id": "49ea1b17",
   "metadata": {},
   "outputs": [],
   "source": [
    "df = df.drop(columns=['Title','Description','URL'])"
   ]
  },
  {
   "cell_type": "markdown",
   "id": "d0c39c47",
   "metadata": {},
   "source": [
    "# Adapting string columns"
   ]
  },
  {
   "cell_type": "code",
   "execution_count": 6,
   "id": "c8e429da",
   "metadata": {},
   "outputs": [],
   "source": [
    "# very useful :)\n",
    "def isnan(val):\n",
    "    if val != val:\n",
    "        return True"
   ]
  },
  {
   "cell_type": "code",
   "execution_count": 7,
   "id": "de9ce013",
   "metadata": {},
   "outputs": [],
   "source": [
    "# needed, the function isdigit() does not properly work with ²\n",
    "def remove_sqrd_symbol(text):\n",
    "    if isnan(text):\n",
    "        return np.nan\n",
    "    return text.replace('²','')"
   ]
  },
  {
   "cell_type": "markdown",
   "id": "d0cd0409",
   "metadata": {},
   "source": [
    "#### Since there are no non-integer numbers in the dataset, we can adapt and re-utilize this function"
   ]
  },
  {
   "cell_type": "code",
   "execution_count": 8,
   "id": "c542bac6",
   "metadata": {},
   "outputs": [],
   "source": [
    "# gets text as input and returns an int composed by all digits found in order\n",
    "def extract_numbers(text): \n",
    "    \n",
    "    if isnan(text):\n",
    "        return np.nan\n",
    "    \n",
    "    try:\n",
    "        return int(''.join(x for x in text if x.isdigit()))\n",
    "    except:\n",
    "        return np.nan"
   ]
  },
  {
   "cell_type": "markdown",
   "id": "10a4c507",
   "metadata": {},
   "source": [
    "#### Converting those to number columns"
   ]
  },
  {
   "cell_type": "code",
   "execution_count": 9,
   "id": "54d78174",
   "metadata": {},
   "outputs": [],
   "source": [
    "df['Area'] = df['Area'].apply(remove_sqrd_symbol).apply(extract_numbers)"
   ]
  },
  {
   "cell_type": "code",
   "execution_count": 10,
   "id": "34b60abd",
   "metadata": {},
   "outputs": [],
   "source": [
    "df['Condominium Fee'] = df['Condominium Fee'].apply(extract_numbers)"
   ]
  },
  {
   "cell_type": "code",
   "execution_count": 11,
   "id": "bcfb9071",
   "metadata": {},
   "outputs": [],
   "source": [
    "df['Price'] = df['Price'].apply(extract_numbers)"
   ]
  },
  {
   "cell_type": "markdown",
   "id": "1deae1e7",
   "metadata": {},
   "source": [
    "#### Renaming columns to represent the unit in which they are registered"
   ]
  },
  {
   "cell_type": "code",
   "execution_count": 12,
   "id": "51b1f0c3",
   "metadata": {},
   "outputs": [],
   "source": [
    "df = df.rename(columns={'Area':'Area (m²)',\n",
    "                        'Condominium Fee':'Condominium Fee (BRL)',\n",
    "                        'Price':'Price (BRL)'})"
   ]
  },
  {
   "cell_type": "code",
   "execution_count": 13,
   "id": "47b7de7c",
   "metadata": {},
   "outputs": [
    {
     "data": {
      "text/plain": [
       "Index(['Status', '# Rooms', 'Area (m²)', '# Car Spots',\n",
       "       'Condominium Fee (BRL)', 'City', 'Neighborhood', 'Price (BRL)'],\n",
       "      dtype='object')"
      ]
     },
     "execution_count": 13,
     "metadata": {},
     "output_type": "execute_result"
    }
   ],
   "source": [
    "df.columns"
   ]
  },
  {
   "cell_type": "markdown",
   "id": "180833ad",
   "metadata": {},
   "source": [
    "### Using the dataset in this state for the EDA will bring us more meaningful plots"
   ]
  },
  {
   "cell_type": "code",
   "execution_count": 14,
   "id": "c9c4c53e",
   "metadata": {},
   "outputs": [
    {
     "data": {
      "text/html": [
       "<div>\n",
       "<style scoped>\n",
       "    .dataframe tbody tr th:only-of-type {\n",
       "        vertical-align: middle;\n",
       "    }\n",
       "\n",
       "    .dataframe tbody tr th {\n",
       "        vertical-align: top;\n",
       "    }\n",
       "\n",
       "    .dataframe thead th {\n",
       "        text-align: right;\n",
       "    }\n",
       "</style>\n",
       "<table border=\"1\" class=\"dataframe\">\n",
       "  <thead>\n",
       "    <tr style=\"text-align: right;\">\n",
       "      <th></th>\n",
       "      <th>Status</th>\n",
       "      <th># Rooms</th>\n",
       "      <th>Area (m²)</th>\n",
       "      <th># Car Spots</th>\n",
       "      <th>Condominium Fee (BRL)</th>\n",
       "      <th>City</th>\n",
       "      <th>Neighborhood</th>\n",
       "      <th>Price (BRL)</th>\n",
       "    </tr>\n",
       "  </thead>\n",
       "  <tbody>\n",
       "    <tr>\n",
       "      <th>0</th>\n",
       "      <td>For rent</td>\n",
       "      <td>3.0</td>\n",
       "      <td>86.0</td>\n",
       "      <td>2.0</td>\n",
       "      <td>0.0</td>\n",
       "      <td>Recife</td>\n",
       "      <td>Boa Viagem</td>\n",
       "      <td>4000.0</td>\n",
       "    </tr>\n",
       "    <tr>\n",
       "      <th>1</th>\n",
       "      <td>NaN</td>\n",
       "      <td>NaN</td>\n",
       "      <td>600.0</td>\n",
       "      <td>NaN</td>\n",
       "      <td>0.0</td>\n",
       "      <td>Camaragibe</td>\n",
       "      <td>Aldeia dos Camarás</td>\n",
       "      <td>220000.0</td>\n",
       "    </tr>\n",
       "    <tr>\n",
       "      <th>2</th>\n",
       "      <td>For sale</td>\n",
       "      <td>3.0</td>\n",
       "      <td>97.0</td>\n",
       "      <td>2.0</td>\n",
       "      <td>NaN</td>\n",
       "      <td>Recife</td>\n",
       "      <td>Dois Irmãos</td>\n",
       "      <td>777000.0</td>\n",
       "    </tr>\n",
       "    <tr>\n",
       "      <th>3</th>\n",
       "      <td>For sale</td>\n",
       "      <td>4.0</td>\n",
       "      <td>134.0</td>\n",
       "      <td>3.0</td>\n",
       "      <td>655.0</td>\n",
       "      <td>Jaboatão dos Guararapes</td>\n",
       "      <td>Candeias</td>\n",
       "      <td>940000.0</td>\n",
       "    </tr>\n",
       "    <tr>\n",
       "      <th>4</th>\n",
       "      <td>For sale</td>\n",
       "      <td>4.0</td>\n",
       "      <td>124.0</td>\n",
       "      <td>2.0</td>\n",
       "      <td>0.0</td>\n",
       "      <td>Recife</td>\n",
       "      <td>Graças</td>\n",
       "      <td>1080980.0</td>\n",
       "    </tr>\n",
       "  </tbody>\n",
       "</table>\n",
       "</div>"
      ],
      "text/plain": [
       "     Status  # Rooms  Area (m²)  # Car Spots  Condominium Fee (BRL)  \\\n",
       "0  For rent      3.0       86.0          2.0                    0.0   \n",
       "1       NaN      NaN      600.0          NaN                    0.0   \n",
       "2  For sale      3.0       97.0          2.0                    NaN   \n",
       "3  For sale      4.0      134.0          3.0                  655.0   \n",
       "4  For sale      4.0      124.0          2.0                    0.0   \n",
       "\n",
       "                      City        Neighborhood  Price (BRL)  \n",
       "0                   Recife          Boa Viagem       4000.0  \n",
       "1               Camaragibe  Aldeia dos Camarás     220000.0  \n",
       "2                   Recife         Dois Irmãos     777000.0  \n",
       "3  Jaboatão dos Guararapes            Candeias     940000.0  \n",
       "4                   Recife              Graças    1080980.0  "
      ]
     },
     "execution_count": 14,
     "metadata": {},
     "output_type": "execute_result"
    }
   ],
   "source": [
    "df.head()"
   ]
  },
  {
   "cell_type": "code",
   "execution_count": 15,
   "id": "eb59e69d",
   "metadata": {},
   "outputs": [],
   "source": [
    "df.to_csv('../DataSets/EDA_OLX_housing.csv',index_label=False)"
   ]
  },
  {
   "cell_type": "markdown",
   "id": "208c3dc8",
   "metadata": {},
   "source": [
    "---------------------------------------"
   ]
  },
  {
   "cell_type": "markdown",
   "id": "3e44d88f",
   "metadata": {},
   "source": [
    "# After EDA"
   ]
  },
  {
   "cell_type": "markdown",
   "id": "71c07f5c",
   "metadata": {},
   "source": [
    "We will feed the Machine Learning model with the adequate data, therefore, we need to do some extra steps in pre_processing"
   ]
  },
  {
   "cell_type": "code",
   "execution_count": 16,
   "id": "ec1771b6",
   "metadata": {},
   "outputs": [],
   "source": [
    "df=pd.read_csv('../DataSets/EDA_OLX_housing_AfterProf.csv')"
   ]
  },
  {
   "cell_type": "markdown",
   "id": "6672efb1",
   "metadata": {},
   "source": [
    "#### Converting string columns to int, so we can interact through ML algorithms"
   ]
  },
  {
   "cell_type": "code",
   "execution_count": 17,
   "id": "ac6ed302",
   "metadata": {},
   "outputs": [],
   "source": [
    "# this function takes a dataset as input and creates a dictionary to convert all string columns to int\n",
    "# there are better ways to do that if you want to derive information from the ordering of the numbers, but, in this case\n",
    "# we will stick to a more simple approach\n",
    "def create_dictioraries(df):\n",
    "    conversion_dictionaries = {}\n",
    "    \n",
    "    for col in df.columns:\n",
    "        datatype = df[col].dtypes\n",
    "\n",
    "        if datatype == 'object':\n",
    "            \n",
    "            col_dict ={np.nan:np.nan}\n",
    "            \n",
    "            i=0\n",
    "            for val in df[col].unique():\n",
    "                if not isnan(val):\n",
    "                    col_dict[val] = i\n",
    "                    i+=1\n",
    "                    \n",
    "            conversion_dictionaries[col] = col_dict\n",
    "\n",
    "    return conversion_dictionaries"
   ]
  },
  {
   "cell_type": "code",
   "execution_count": 18,
   "id": "a1945069",
   "metadata": {},
   "outputs": [],
   "source": [
    "conv_dicts = create_dictioraries(df)"
   ]
  },
  {
   "cell_type": "code",
   "execution_count": 19,
   "id": "a948c220",
   "metadata": {},
   "outputs": [],
   "source": [
    "# applying the conversion\n",
    "for col in list(conv_dicts.keys()):\n",
    "    df[col] = df[col].replace(conv_dicts[col])"
   ]
  },
  {
   "cell_type": "code",
   "execution_count": 20,
   "id": "77f29fad",
   "metadata": {},
   "outputs": [],
   "source": [
    "# deleting price per meter, since we are predicting price\n",
    "del df['Price per m²']"
   ]
  },
  {
   "cell_type": "code",
   "execution_count": 21,
   "id": "813b5779",
   "metadata": {},
   "outputs": [
    {
     "data": {
      "text/html": [
       "<div>\n",
       "<style scoped>\n",
       "    .dataframe tbody tr th:only-of-type {\n",
       "        vertical-align: middle;\n",
       "    }\n",
       "\n",
       "    .dataframe tbody tr th {\n",
       "        vertical-align: top;\n",
       "    }\n",
       "\n",
       "    .dataframe thead th {\n",
       "        text-align: right;\n",
       "    }\n",
       "</style>\n",
       "<table border=\"1\" class=\"dataframe\">\n",
       "  <thead>\n",
       "    <tr style=\"text-align: right;\">\n",
       "      <th></th>\n",
       "      <th># Rooms</th>\n",
       "      <th>Area (m²)</th>\n",
       "      <th># Car Spots</th>\n",
       "      <th>Condominium Fee (BRL)</th>\n",
       "      <th>City</th>\n",
       "      <th>Neighborhood</th>\n",
       "      <th>Price (BRL)</th>\n",
       "    </tr>\n",
       "  </thead>\n",
       "  <tbody>\n",
       "    <tr>\n",
       "      <th>0</th>\n",
       "      <td>4.0</td>\n",
       "      <td>134.0</td>\n",
       "      <td>3.0</td>\n",
       "      <td>655.0</td>\n",
       "      <td>0</td>\n",
       "      <td>0</td>\n",
       "      <td>940000.0</td>\n",
       "    </tr>\n",
       "    <tr>\n",
       "      <th>1</th>\n",
       "      <td>4.0</td>\n",
       "      <td>124.0</td>\n",
       "      <td>2.0</td>\n",
       "      <td>0.0</td>\n",
       "      <td>1</td>\n",
       "      <td>1</td>\n",
       "      <td>1080980.0</td>\n",
       "    </tr>\n",
       "    <tr>\n",
       "      <th>2</th>\n",
       "      <td>3.0</td>\n",
       "      <td>100.0</td>\n",
       "      <td>0.0</td>\n",
       "      <td>670.0</td>\n",
       "      <td>0</td>\n",
       "      <td>2</td>\n",
       "      <td>340000.0</td>\n",
       "    </tr>\n",
       "    <tr>\n",
       "      <th>3</th>\n",
       "      <td>NaN</td>\n",
       "      <td>34.0</td>\n",
       "      <td>0.0</td>\n",
       "      <td>0.0</td>\n",
       "      <td>2</td>\n",
       "      <td>3</td>\n",
       "      <td>199000.0</td>\n",
       "    </tr>\n",
       "    <tr>\n",
       "      <th>4</th>\n",
       "      <td>2.0</td>\n",
       "      <td>50.0</td>\n",
       "      <td>0.0</td>\n",
       "      <td>435.0</td>\n",
       "      <td>1</td>\n",
       "      <td>4</td>\n",
       "      <td>350000.0</td>\n",
       "    </tr>\n",
       "  </tbody>\n",
       "</table>\n",
       "</div>"
      ],
      "text/plain": [
       "   # Rooms  Area (m²)  # Car Spots  Condominium Fee (BRL)  City  Neighborhood  \\\n",
       "0      4.0      134.0          3.0                  655.0     0             0   \n",
       "1      4.0      124.0          2.0                    0.0     1             1   \n",
       "2      3.0      100.0          0.0                  670.0     0             2   \n",
       "3      NaN       34.0          0.0                    0.0     2             3   \n",
       "4      2.0       50.0          0.0                  435.0     1             4   \n",
       "\n",
       "   Price (BRL)  \n",
       "0     940000.0  \n",
       "1    1080980.0  \n",
       "2     340000.0  \n",
       "3     199000.0  \n",
       "4     350000.0  "
      ]
     },
     "execution_count": 21,
     "metadata": {},
     "output_type": "execute_result"
    }
   ],
   "source": [
    "df.head()"
   ]
  },
  {
   "cell_type": "markdown",
   "id": "42a0f0ec",
   "metadata": {},
   "source": [
    "### We will feed Machine Learning models with this version of the DataSet"
   ]
  },
  {
   "cell_type": "code",
   "execution_count": 22,
   "id": "737570b7",
   "metadata": {},
   "outputs": [],
   "source": [
    "df.to_csv('../DataSets/MLproc_OLX_housing.csv',index_label=False)"
   ]
  }
 ],
 "metadata": {
  "kernelspec": {
   "display_name": "Python 3",
   "language": "python",
   "name": "python3"
  },
  "language_info": {
   "codemirror_mode": {
    "name": "ipython",
    "version": 3
   },
   "file_extension": ".py",
   "mimetype": "text/x-python",
   "name": "python",
   "nbconvert_exporter": "python",
   "pygments_lexer": "ipython3",
   "version": "3.8.8"
  }
 },
 "nbformat": 4,
 "nbformat_minor": 5
}
