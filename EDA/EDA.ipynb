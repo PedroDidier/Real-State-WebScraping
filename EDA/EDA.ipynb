{
 "cells": [
  {
   "cell_type": "markdown",
   "id": "d2b9db23",
   "metadata": {},
   "source": [
    "## Importing Libs"
   ]
  },
  {
   "cell_type": "code",
   "execution_count": 1,
   "id": "fe21b686",
   "metadata": {},
   "outputs": [],
   "source": [
    "import matplotlib.pyplot as plt\n",
    "import seaborn as sns\n",
    "import pandas as pd\n",
    "import numpy as np\n",
    "\n",
    "from pandas_profiling import ProfileReport"
   ]
  },
  {
   "cell_type": "markdown",
   "id": "60028a6b",
   "metadata": {},
   "source": [
    "## Importing EDA DataSet"
   ]
  },
  {
   "cell_type": "code",
   "execution_count": 2,
   "id": "6b83e794",
   "metadata": {},
   "outputs": [],
   "source": [
    "df = pd.read_csv('../DataSets/EDA_OLX_housing.csv')"
   ]
  },
  {
   "cell_type": "markdown",
   "id": "6085b720",
   "metadata": {},
   "source": [
    "# Pandas Profiling Report - 1"
   ]
  },
  {
   "cell_type": "markdown",
   "id": "cc86b2f7",
   "metadata": {},
   "source": [
    "Pandas profiling report does A LOT for us automatically. It saves a .hltm with a really good insight for what needs to be focused in the dataset. Despite this being a powerful tool, it is always preferable to complement its analysis with hand-made plots on Seaborn and MatplotLib."
   ]
  },
  {
   "cell_type": "code",
   "execution_count": null,
   "id": "ef5cb24c",
   "metadata": {},
   "outputs": [],
   "source": [
    "prof = ProfileReport(df)\n",
    "prof.to_file(output_file='EDA_OLX_housing_PandasProf.html')"
   ]
  },
  {
   "cell_type": "markdown",
   "id": "a5616b03",
   "metadata": {},
   "source": [
    "### Conclusions"
   ]
  },
  {
   "cell_type": "markdown",
   "id": "9d5aa63d",
   "metadata": {},
   "source": [
    "- Most of data is related to houses for sale, missing data should not be considered\n",
    "- Rooms has a lot of missing data, we can input that with no worries\n",
    "- Area has dangerous outliars, which should be deleted\n",
    "- Car Spots has most of its data missing, we should input 0 for those\n",
    "- Condominium Fee also have bad outliars, which should be deleted\n",
    "- Price its (obviously) very influenced by \"Status\", ML analysis should focus only one of this categories"
   ]
  },
  {
   "cell_type": "markdown",
   "id": "c2e231ab",
   "metadata": {},
   "source": [
    "### Cleaning Data after first report"
   ]
  },
  {
   "cell_type": "code",
   "execution_count": 3,
   "id": "36dfa2d5",
   "metadata": {},
   "outputs": [],
   "source": [
    "# Conclusion n1\n",
    "df=df[df['Status']=='For sale']"
   ]
  },
  {
   "cell_type": "code",
   "execution_count": 4,
   "id": "178c58a3",
   "metadata": {},
   "outputs": [],
   "source": [
    "# Conclusion n2 will be dealt in pre-processing"
   ]
  },
  {
   "cell_type": "code",
   "execution_count": 5,
   "id": "11b494fd",
   "metadata": {},
   "outputs": [],
   "source": [
    "# Conclusion n3\n",
    "df=df[df['Area (m²)']<100000] # 10 hectars is the maximum accepted"
   ]
  },
  {
   "cell_type": "code",
   "execution_count": 6,
   "id": "72c3e0c0",
   "metadata": {},
   "outputs": [],
   "source": [
    "# Conclusion n4\n",
    "df['# Car Spots']=df['# Car Spots'].replace(np.nan,'0')"
   ]
  },
  {
   "cell_type": "code",
   "execution_count": 7,
   "id": "e404ab99",
   "metadata": {},
   "outputs": [],
   "source": [
    "# Conclusion n5\n",
    "df=df[df['Condominium Fee (BRL)']<10000]\n",
    "df['Condominium Fee (BRL)']=df['Condominium Fee (BRL)'].replace(np.nan,'0')"
   ]
  },
  {
   "cell_type": "code",
   "execution_count": 9,
   "id": "fdbf134b",
   "metadata": {},
   "outputs": [],
   "source": [
    "# reseting index\n",
    "df = df.reset_index(drop=True)"
   ]
  },
  {
   "cell_type": "code",
   "execution_count": 12,
   "id": "6ce9a795",
   "metadata": {},
   "outputs": [],
   "source": [
    "# saving changes\n",
    "df.to_csv('../DataSets/EDA_OLX_housing_AfterProf.csv',index_label=False)"
   ]
  },
  {
   "cell_type": "markdown",
   "id": "06848dda",
   "metadata": {},
   "source": [
    "# Pandas Profiling Report - 2"
   ]
  },
  {
   "cell_type": "code",
   "execution_count": 13,
   "id": "e148913a",
   "metadata": {},
   "outputs": [
    {
     "data": {
      "application/vnd.jupyter.widget-view+json": {
       "model_id": "01031ac9ff0543a4b967ef18ca3ef404",
       "version_major": 2,
       "version_minor": 0
      },
      "text/plain": [
       "Summarize dataset:   0%|          | 0/5 [00:00<?, ?it/s]"
      ]
     },
     "metadata": {},
     "output_type": "display_data"
    },
    {
     "data": {
      "application/vnd.jupyter.widget-view+json": {
       "model_id": "09933373686a4db3aa7925ef481e8220",
       "version_major": 2,
       "version_minor": 0
      },
      "text/plain": [
       "Generate report structure:   0%|          | 0/1 [00:00<?, ?it/s]"
      ]
     },
     "metadata": {},
     "output_type": "display_data"
    },
    {
     "data": {
      "application/vnd.jupyter.widget-view+json": {
       "model_id": "32a4e261e0e8477bbe0d57b98851a0ef",
       "version_major": 2,
       "version_minor": 0
      },
      "text/plain": [
       "Render HTML:   0%|          | 0/1 [00:00<?, ?it/s]"
      ]
     },
     "metadata": {},
     "output_type": "display_data"
    },
    {
     "data": {
      "application/vnd.jupyter.widget-view+json": {
       "model_id": "04a190afa95441e7bcf65ebfd6fb8e1d",
       "version_major": 2,
       "version_minor": 0
      },
      "text/plain": [
       "Export report to file:   0%|          | 0/1 [00:00<?, ?it/s]"
      ]
     },
     "metadata": {},
     "output_type": "display_data"
    }
   ],
   "source": [
    "prof2 = ProfileReport(df)\n",
    "prof2.to_file(output_file='EDA_OLX_housing_PandasProf2.html')"
   ]
  }
 ],
 "metadata": {
  "kernelspec": {
   "display_name": "Python 3",
   "language": "python",
   "name": "python3"
  },
  "language_info": {
   "codemirror_mode": {
    "name": "ipython",
    "version": 3
   },
   "file_extension": ".py",
   "mimetype": "text/x-python",
   "name": "python",
   "nbconvert_exporter": "python",
   "pygments_lexer": "ipython3",
   "version": "3.8.8"
  }
 },
 "nbformat": 4,
 "nbformat_minor": 5
}
