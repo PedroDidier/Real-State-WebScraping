{
 "cells": [
  {
   "cell_type": "markdown",
   "id": "d99bf11c",
   "metadata": {},
   "source": [
    "## Importing Libs + Loading DataSet"
   ]
  },
  {
   "cell_type": "code",
   "execution_count": 1,
   "id": "4d1b5146",
   "metadata": {},
   "outputs": [],
   "source": [
    "import pandas as pd\n",
    "import numpy as np\n",
    "\n",
    "from sklearn.model_selection import KFold\n",
    "from sklearn.linear_model import LinearRegression"
   ]
  },
  {
   "cell_type": "code",
   "execution_count": 2,
   "id": "17a07299",
   "metadata": {},
   "outputs": [],
   "source": [
    "df = pd.read_csv('../DataSets/MLproc_OLX_housing.csv')"
   ]
  },
  {
   "cell_type": "markdown",
   "id": "037d7025",
   "metadata": {},
   "source": [
    "# Running Linear Regression in a 5-fold cross validation Setting"
   ]
  },
  {
   "cell_type": "code",
   "execution_count": 3,
   "id": "93857b29",
   "metadata": {},
   "outputs": [],
   "source": [
    "# We need to input data to fill our dataset up before we feed it into a model, since we only have\n",
    "# one column with missing data, that being the \"number of Rooms\", we will just manually input the mode\n",
    "# of the column, which is coherent with the type of information in the column. We could use scikit-learn's\n",
    "# data inputer for that as well, if we needed to input data in other columns, and, to get better results\n",
    "# we could even design our custom data inputing method.\n",
    "\n",
    "pred = []\n",
    "y_true = []\n",
    "\n",
    "# 5-fold for cross-validation\n",
    "kfold = KFold(5, shuffle=True, random_state=1) \n",
    "\n",
    "for train, val in kfold.split(df): # train/val loop\n",
    "    \n",
    "    X_train = df.iloc[train].drop(columns='Price (BRL)')   \n",
    "    y_train = df.iloc[train]['Price (BRL)']\n",
    "    \n",
    "    X_val = df.iloc[val].drop(columns='Price (BRL)')   \n",
    "    y_val = df.iloc[val]['Price (BRL)']\n",
    "    \n",
    "    # Imputing data, it is important to do this process using only information based on the training data\n",
    "    nRooms_mode = float(X_train['# Rooms'].mode())\n",
    "    \n",
    "    X_train['# Rooms'] = X_train['# Rooms'].replace(np.nan,nRooms_mode)\n",
    "    X_val['# Rooms'] = X_val['# Rooms'].replace(np.nan,nRooms_mode)\n",
    "    \n",
    "    for val in y_val: # ground truth\n",
    "        y_true.append(int(val))\n",
    "    \n",
    "    lmod = LinearRegression()\n",
    "    lmod.fit(X_train,y_train)\n",
    "    \n",
    "    fold_pred = lmod.predict(X_val) # predictions\n",
    "    \n",
    "    for p in fold_pred:\n",
    "        pred.append(round(p))"
   ]
  },
  {
   "cell_type": "code",
   "execution_count": 4,
   "id": "548858e1",
   "metadata": {},
   "outputs": [],
   "source": [
    "dif = [pred[x]-y_true[x] for x in range(len(pred))]"
   ]
  },
  {
   "cell_type": "markdown",
   "id": "9176af4a",
   "metadata": {},
   "source": [
    "# Ploting Results"
   ]
  },
  {
   "cell_type": "markdown",
   "id": "aff74be3",
   "metadata": {},
   "source": [
    "The results were a little bit all over the place, which is not a good sign for us. Maybe a Linear Regression is not powerful enough to predict this pattern"
   ]
  },
  {
   "cell_type": "code",
   "execution_count": 5,
   "id": "815cc961",
   "metadata": {},
   "outputs": [
    {
     "data": {
      "text/plain": [
       "[<matplotlib.lines.Line2D at 0x1ee2bdaaaf0>]"
      ]
     },
     "execution_count": 5,
     "metadata": {},
     "output_type": "execute_result"
    },
    {
     "data": {
      "image/png": "[encoded data removed]",
      "text/plain": [
       "<Figure size 432x288 with 1 Axes>"
      ]
     },
     "metadata": {
      "needs_background": "light"
     },
     "output_type": "display_data"
    }
   ],
   "source": [
    "import matplotlib.pyplot as plt\n",
    "\n",
    "plt.plot(range(len(pred)),dif)"
   ]
  }
 ],
 "metadata": {
  "kernelspec": {
   "display_name": "Python 3",
   "language": "python",
   "name": "python3"
  },
  "language_info": {
   "codemirror_mode": {
    "name": "ipython",
    "version": 3
   },
   "file_extension": ".py",
   "mimetype": "text/x-python",
   "name": "python",
   "nbconvert_exporter": "python",
   "pygments_lexer": "ipython3",
   "version": "3.8.8"
  }
 },
 "nbformat": 4,
 "nbformat_minor": 5
}
