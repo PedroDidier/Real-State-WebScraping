{
 "cells": [
  {
   "cell_type": "code",
   "execution_count": null,
   "id": "4d1b5146",
   "metadata": {},
   "outputs": [],
   "source": [
    "import pandas as pd\n",
    "import numpy as np\n",
    "\n",
    "from sklearn.model_selection import KFold\n",
    "from sklearn.linear_model import LinearRegression"
   ]
  },
  {
   "cell_type": "code",
   "execution_count": null,
   "id": "17a07299",
   "metadata": {},
   "outputs": [],
   "source": [
    "df = pd.read_csv('../DataSets/MLproc_OLX_housing.csv')"
   ]
  },
  {
   "cell_type": "code",
   "execution_count": null,
   "id": "93857b29",
   "metadata": {},
   "outputs": [],
   "source": [
    "# We need to input data to fill our dataset up before we feed it into a model, since we only have\n",
    "# one column with missing data, that being the \"number of Rooms\", we will just manually input the mode\n",
    "# of the column, which is coherent with the type of information in the column. We could use scikit-learn's\n",
    "# data inputer for that as well, if we needed to input data in other columns, and, to get better results\n",
    "# we could even design our custom data inputing method.\n",
    "\n",
    "pred = []\n",
    "y_true = []\n",
    "\n",
    "# 5-fold for cross-validation\n",
    "kfold = KFold(5, shuffle=True, random_state=1) \n",
    "\n",
    "for train, val in kfold.split(df): # train/val loop\n",
    "    \n",
    "    X_train = df.iloc[train].drop(columns='Price (BRL)')   \n",
    "    y_train = df.iloc[train]['Price (BRL)']\n",
    "    \n",
    "    X_val = df.iloc[val].drop(columns='Price (BRL)')   \n",
    "    y_val = df.iloc[val]['Price (BRL)']\n",
    "    \n",
    "    # Imputing missing data, it is important to do this process using only information based on the training data\n",
    "    nRooms_mode = float(X_train['# Rooms'].mode())\n",
    "    \n",
    "    X_train['# Rooms'] = X_train['# Rooms'].replace(np.nan,nRooms_mode)\n",
    "    X_val['# Rooms'] = X_val['# Rooms'].replace(np.nan,nRooms_mode)\n",
    "    \n",
    "    for val in y_val: # ground truth\n",
    "        y_true.append(int(val))\n",
    "    \n",
    "    lmod = LinearRegression()\n",
    "    lmod.fit(X_train,y_train)\n",
    "    \n",
    "    fold_pred = lmod.predict(X_val) # predictions\n",
    "    \n",
    "    for p in fold_pred:\n",
    "        pred.append(round(p))"
   ]
  }
 ],
 "metadata": {
  "kernelspec": {
   "display_name": "Python 3",
   "language": "python",
   "name": "python3"
  },
  "language_info": {
   "codemirror_mode": {
    "name": "ipython",
    "version": 3
   },
   "file_extension": ".py",
   "mimetype": "text/x-python",
   "name": "python",
   "nbconvert_exporter": "python",
   "pygments_lexer": "ipython3",
   "version": "3.8.8"
  }
 },
 "nbformat": 4,
 "nbformat_minor": 5
}
